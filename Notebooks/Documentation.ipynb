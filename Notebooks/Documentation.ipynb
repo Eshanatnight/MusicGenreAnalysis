{
 "cells": [
  {
   "cell_type": "markdown",
   "metadata": {},
   "source": [
    "# **Audio classification** \n",
    "\n",
    "Audio Classification is an Application of Machine Learning where different sound is categorized into certain categories. In our case we will be subclassifying the music into different genres.\n",
    "\n",
    "I want to build a complete *music Genre classification* project from scratch using a machine learning algorithm known as the **K-Nearest Neighbors classification algorithm**.\n",
    "\n",
    "We are using the **K-Nearest Neighbors** algorithm beacause of loads of reasons, one of them being I just learned it and I want to use it in the real world."
   ]
  },
  {
   "cell_type": "markdown",
   "metadata": {},
   "source": [
    "## Introduction\n",
    "\n",
    "Audio processing is one of the most complex tasks in data science as compared to image processing and other classification techniques.\n",
    "One such application is music genre classification which aims to classify the audio files in certain categories of sound to which they belong. \n",
    "The application is very important and requires automation to reduce the manual error and time because if we have to classify the music manually then one has to listen out each file for the complete duration. \n",
    "So To automate the process we use Machine Learning and Deep Learning Algorithms."
   ]
  },
  {
   "cell_type": "markdown",
   "metadata": {},
   "source": [
    "## Project Overview\n",
    "\n",
    "In short, we can define our project *problem statement* as like\n",
    "\n",
    "```Given multiple audio files, and the task is to categorize each audio file in a certain category like audio belongs to Disco, hip-hop, etc. The music genre classification can be built using different approaches ```  \n",
    "\n",
    "in which the top 4 approaches that are mostly used are listed below.\n",
    "\n",
    "*   Multiclass Support Vector Machine\n",
    "\n",
    "*   K-Nearest Neighbors\n",
    "\n",
    "*   K-means Clustering Algorithm\n",
    "\n",
    "*   Convolutional Neural Network\n",
    "\n"
   ]
  },
  {
   "cell_type": "markdown",
   "metadata": {},
   "source": [
    "**K-Nearest Neighbour**: is a machine learning algorithm used for regression, and classification. It is also known as the lazy learner algorithm. It simply uses a distance-based method to find the K number of similar neighbours to new data and the class in which the majority of neighbours lies, it results in that class as an output."
   ]
  },
  {
   "cell_type": "markdown",
   "metadata": {},
   "source": [
    "## Dataset overview\n",
    "\n",
    "The dataset we will use is named the **GTZAN genre collection dataset** which is a very popular audio collection dataset. It contains approximately 1000 audio files that belong to 10 different classes. Each audio file is in .wav format. "
   ]
  },
  {
   "cell_type": "markdown",
   "metadata": {},
   "source": [
    "The classes to which audio files belong are *Blues, Hip-hop, classical, pop, Disco, Country, Metal, Jazz, Reggae, and Rock*. \n",
    "\n",
    "Available On Kaggle: *https://www.kaggle.com/andradaolteanu/gtzan-dataset-music-genre-classification?select=Data*\n"
   ]
  }
 ],
 "metadata": {
  "language_info": {
   "name": "python"
  },
  "orig_nbformat": 4
 },
 "nbformat": 4,
 "nbformat_minor": 2
}
